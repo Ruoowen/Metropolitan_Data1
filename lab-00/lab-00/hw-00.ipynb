{
 "cells": [
  {
   "cell_type": "markdown",
   "metadata": {},
   "source": [
    "# <img style=\"float: left; padding-right: 10px; width: 200px\" src=\"https://raw.githubusercontent.com/trivikverma/researchgroup/master/assets/media/logo.png\"> EPA-122A *Spatial* Data Science \n",
    "\n",
    "\n",
    "## Homework 0: Introduction to Python and its Numerical Stack\n",
    "\n",
    "**TU Delft**<br>\n",
    "**Q2 2023**<br>\n",
    "**Instructor:** Trivik Verma <br>\n",
    "**[Centre for Urban Science & Policy]( https://cusp.tbm.tudelft.nl/)** <br>\n",
    "\n",
    "\n",
    "---\n",
    "\n"
   ]
  },
  {
   "cell_type": "markdown",
   "metadata": {
    "tags": []
   },
   "source": [
    "# Homework Exercises"
   ]
  },
  {
   "cell_type": "markdown",
   "metadata": {},
   "source": [
    "## Exercise 1\n",
    "### Write a properly documented function with the following behaviour:\n",
    "\n",
    "- It has a meaningful name (i.e. it is related to its behaviour).\n",
    "- It takes an integer that represents the length of a sequence that will be created.\n",
    "- It creates a dictionary that is empty.\n",
    "- It loops over the sequence and stores each number as the key of an entry in the dictionary, assigning either \"odd\" or \"even\" to the value, depending on the type of number.\n",
    "\n",
    "- Returns the dictionary."
   ]
  },
  {
   "cell_type": "code",
   "execution_count": 1,
   "metadata": {},
   "outputs": [],
   "source": [
    "# named function as \"parity\" for classifying either odd or even;\n",
    "# named \"lens\" as the parameter:\n",
    "def parity(lens):\n",
    "    #create the empty dictionary\n",
    "    dictionary = {}\n",
    "    for i in range(lens):\n",
    "        if i%2==0:\n",
    "            dictionary[i]=\"even\"\n",
    "        else:\n",
    "            dictionary[i]=\"odd\"\n",
    "    return dictionary\n"
   ]
  },
  {
   "cell_type": "code",
   "execution_count": 2,
   "metadata": {},
   "outputs": [
    {
     "name": "stdout",
     "output_type": "stream",
     "text": [
      "the sequence lengeth is 7\n"
     ]
    },
    {
     "data": {
      "text/plain": [
       "{0: 'even', 1: 'odd', 2: 'even', 3: 'odd', 4: 'even', 5: 'odd', 6: 'even'}"
      ]
     },
     "execution_count": 2,
     "metadata": {},
     "output_type": "execute_result"
    }
   ],
   "source": [
    "# test the function by the random number arrey\n",
    "import numpy as np\n",
    "n = np.random.randint(10)\n",
    "print('the sequence lengeth is',n)\n",
    "parity(n)"
   ]
  },
  {
   "cell_type": "markdown",
   "metadata": {},
   "source": [
    "## Exercise 2\n",
    "### Create a tuple called `tup` with the following seven objects: \n",
    "\n",
    "- The first element is an integer of your choice\n",
    "- The second element is a float of your choice  \n",
    "- The third element is the sum of the first two elements\n",
    "- The fourth element is the difference of the first two elements\n",
    "- The fifth element is the first element divided by the second element\n",
    "\n",
    "- Display the output of `tup`.  What is the type of the variable `tup`? What happens if you try and change an item in the tuple? "
   ]
  },
  {
   "cell_type": "code",
   "execution_count": 2,
   "metadata": {},
   "outputs": [
    {
     "name": "stdout",
     "output_type": "stream",
     "text": [
      "Tuple (6, 8.8, 14.8, -2.8000000000000007, 0.6818181818181818)\n",
      "Type of 'tup': <class 'tuple'>\n",
      "Notification: 'tuple' object does not support item assignment\n"
     ]
    }
   ],
   "source": [
    "# create the elements:\n",
    "a= 6; \n",
    "b = 8.8; \n",
    "c= a+b\n",
    "d = a-b\n",
    "e = a / b\n",
    "# create a tuple called 'tup':\n",
    "tup = (a,b,c,d,e)\n",
    "# display the output of 'tup',and shows the type of 'tup'\n",
    "print(\"Tuple\",tup)\n",
    "print(\"Type of 'tup':\",type(tup))\n",
    "# try to change an item in the tup\n",
    "try:\n",
    "    tup[1]=0 #try to change the second item in the tup \n",
    "except TypeError as error:\n",
    "    print(\"Notification:\",error)"
   ]
  },
  {
   "cell_type": "markdown",
   "metadata": {},
   "source": [
    "## Exercise 3\n",
    "### Build a list that contains every prime number between 1 and 100, in two different ways:\n",
    "    \n",
    "1. Using for loops and conditional if statements.\n",
    "2. **(Stretch Goal)** Using a list comprehension.  You should be able to do this in one line of code. **Hint:** it might help to look up the function `all()` in the documentation."
   ]
  },
  {
   "cell_type": "code",
   "execution_count": 4,
   "metadata": {},
   "outputs": [
    {
     "name": "stdout",
     "output_type": "stream",
     "text": [
      "[2, 3, 5, 7, 11, 13, 17, 19, 23, 29, 31, 37, 41, 43, 47, 53, 59, 61, 67, 71, 73, 79, 83, 89, 97]\n"
     ]
    }
   ],
   "source": [
    "# 3.1.1\n",
    "#set an emtry array \n",
    "prime_num=[]\n",
    "# Start from 2, since 1 is not a prime number\n",
    "for i in range(2,101): \n",
    "    # Assume the number is prime until proven otherwish\n",
    "    is_prime=True \n",
    "    # Check whether a number is divisible by a number other than 1 \n",
    "    for j in range(2,i):\n",
    "        if i % j == 0:\n",
    "            is_prime=False\n",
    "            break\n",
    "    if is_prime:\n",
    "        prime_num.append(i)\n",
    "   \n",
    "print(prime_num)"
   ]
  },
  {
   "cell_type": "code",
   "execution_count": 3,
   "metadata": {},
   "outputs": [
    {
     "name": "stdout",
     "output_type": "stream",
     "text": [
      "[2, 3, 5, 7, 11, 13, 17, 19, 23, 29, 31, 37, 41, 43, 47, 53, 59, 61, 67, 71, 73, 79, 83, 89, 97]\n"
     ]
    }
   ],
   "source": [
    "# 3.1.2\n",
    "#set an emtry array \n",
    "prime_num=[]\n",
    "# create a function\n",
    "def is_prime(num):\n",
    "    if num<2:\n",
    "        return False\n",
    "    for i in range(2,int(num**0.5)+1): # \"num**0.5\" equals \"sqrt(num)\", and don't need to import math at frist\n",
    "        if num % i == 0:\n",
    "            return False\n",
    "    return True\n",
    "\n",
    "for N in range(1,101):\n",
    "    if is_prime(N):\n",
    "        prime_num.append(N)\n",
    "print(prime_num)\n"
   ]
  },
  {
   "cell_type": "code",
   "execution_count": 4,
   "metadata": {},
   "outputs": [
    {
     "name": "stdout",
     "output_type": "stream",
     "text": [
      "[2, 3, 5, 7, 11, 13, 17, 19, 23, 29, 31, 37, 41, 43, 47, 53, 59, 61, 67, 71, 73, 79, 83, 89, 97]\n"
     ]
    }
   ],
   "source": [
    "# 3.2\n",
    "prime_num = [i for i in range(2, 101) \n",
    "             if all(i % j != 0 \n",
    "                    for j in range(2, int(i**0.5) + 1))]\n",
    "print(prime_num)"
   ]
  },
  {
   "cell_type": "markdown",
   "metadata": {},
   "source": [
    "## Exercise 4\n",
    "### Write a function to test the \"prime-ness\" of a number.\n",
    "    \n",
    "In Exercise 4, above, you wrote code that generated a list of the prime numbers between 1 and 100. Now, write a function called `isprime()` that takes in a positive integer $N$, and determines whether or not it is prime.  Return `True` if it's prime and return `False` if it isn't. Then, using a list comprehension and `isprime()`, create a list `myprimes` that contains all the prime numbers less than 100.  "
   ]
  },
  {
   "cell_type": "code",
   "execution_count": 2,
   "metadata": {},
   "outputs": [
    {
     "name": "stdout",
     "output_type": "stream",
     "text": [
      "[2, 3, 5, 7, 11, 13, 17, 19, 23, 29, 31, 37, 41, 43, 47, 53, 59, 61, 67, 71, 73, 79, 83, 89, 97]\n"
     ]
    }
   ],
   "source": [
    "# your code here\n",
    "def isprime(N):\n",
    "    if N<=1:\n",
    "        return False\n",
    "    for i in range(2,int(N**0.5)+1):\n",
    "        if N % i ==0:\n",
    "            return False\n",
    "    return True\n",
    "\n",
    "#Create list myprimes:\n",
    "myprimes = [n for n in range(2,100) if isprime(n)]\n",
    "print(myprimes)\n"
   ]
  },
  {
   "cell_type": "markdown",
   "metadata": {},
   "source": [
    "---"
   ]
  },
  {
   "cell_type": "markdown",
   "metadata": {},
   "source": [
    "## Optional Exercise\n",
    "### Try to reproduce, using markdown and the different tools the notebook affords you, the following WikiPedia entry:\n",
    "\n",
    "\n",
    "> https://en.wikipedia.org/wiki/Puppy\n"
   ]
  },
  {
   "cell_type": "code",
   "execution_count": 7,
   "metadata": {},
   "outputs": [
    {
     "data": {
      "text/html": [
       "\n",
       "        <iframe\n",
       "            width=\"700\"\n",
       "            height=\"500\"\n",
       "            src=\"https://en.wikipedia.org/wiki/Puppy\"\n",
       "            frameborder=\"0\"\n",
       "            allowfullscreen\n",
       "            \n",
       "        ></iframe>\n",
       "        "
      ],
      "text/plain": [
       "<IPython.lib.display.IFrame at 0x18d768f3020>"
      ]
     },
     "execution_count": 7,
     "metadata": {},
     "output_type": "execute_result"
    }
   ],
   "source": [
    "from IPython.display import IFrame\n",
    "IFrame('https://en.wikipedia.org/wiki/Puppy', 700, 500)"
   ]
  },
  {
   "cell_type": "markdown",
   "metadata": {},
   "source": [
    "Do not over think it. Focuse and pay special attention to getting the bold, italics, links, headlines and lists correctly formated, but don't worry too much about the overall layout. Bonus if you manage to insert the image as well (it does not need to be properly placed as in the original page)!"
   ]
  },
  {
   "cell_type": "code",
   "execution_count": 8,
   "metadata": {},
   "outputs": [],
   "source": [
    "# your code here\n"
   ]
  }
 ],
 "metadata": {
  "kernelspec": {
   "display_name": "Python 3",
   "language": "python",
   "name": "python3"
  },
  "language_info": {
   "codemirror_mode": {
    "name": "ipython",
    "version": 3
   },
   "file_extension": ".py",
   "mimetype": "text/x-python",
   "name": "python",
   "nbconvert_exporter": "python",
   "pygments_lexer": "ipython3",
   "version": "3.12.5"
  }
 },
 "nbformat": 4,
 "nbformat_minor": 4
}
